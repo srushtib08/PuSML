{
 "cells": [
  {
   "cell_type": "markdown",
   "id": "55fe438b",
   "metadata": {},
   "source": [
    "#                                The Sparks Foundation : GRIP \n",
    "#                   Data Science and Business Analytics Internship \n",
    "#                                Author : Srushti Badukale\n",
    "   #                                        Batch : Oct21"
   ]
  },
  {
   "cell_type": "markdown",
   "id": "0393073a",
   "metadata": {},
   "source": [
    "#               Task 1 : Prediction Using Supervised Machine Learning \n",
    "In this task, we will predict the percentage of students is expected to score based upon the number of hours they studied."
   ]
  },
  {
   "cell_type": "markdown",
   "id": "82dd82c3",
   "metadata": {},
   "source": [
    "# Steps to follow:\n",
    "\n",
    "  1. Importing the dataset\n",
    "  2. Visualizing the dataset\n",
    "  3. Data Preparation\n",
    "  4. Training the Algorithm\n",
    "  5. Visualizing our Model\n",
    "  6. Making Predictions\n",
    "  7. Evaluating the model"
   ]
  },
  {
   "cell_type": "markdown",
   "id": "0f132a9c",
   "metadata": {},
   "source": [
    "# Step1 : Importing the dataset\n",
    "  We will import the dataset with the help of pandas libraries and we will observe the data."
   ]
  },
  {
   "cell_type": "code",
   "execution_count": null,
   "id": "2a5d2a71",
   "metadata": {},
   "outputs": [],
   "source": [
    "#Importing all required libraries\n",
    "\n",
    "import pandas as pd\n",
    "import numpy as np\n",
    "import matplotlib.pyplot as plt\n",
    "\n",
    "#%matplotlib inline allows plots to appear and save in this notebook\n",
    "%matplotlib inline"
   ]
  },
  {
   "cell_type": "code",
   "execution_count": null,
   "id": "41e0b298",
   "metadata": {},
   "outputs": [],
   "source": [
    "#Reading data from remote link\n",
    "\n",
    "url = \"http://bit.ly/w-data\"\n",
    "data = pd.read_csv(url) \n",
    "print(\"Data imported successfully\")\n",
    "\n",
    "#using head() method to display the first few rows and to be imported\n",
    "s_data.head(9)"
   ]
  },
  {
   "cell_type": "code",
   "execution_count": null,
   "id": "e13da603",
   "metadata": {},
   "outputs": [],
   "source": [
    "#It is used to display the no. of rows and no. of columns of our dataset\n",
    "s_data.shape"
   ]
  },
  {
   "cell_type": "code",
   "execution_count": null,
   "id": "21906062",
   "metadata": {},
   "outputs": [],
   "source": [
    "#using tail() method to display the last five rows\n",
    "s_data.tail(5)"
   ]
  },
  {
   "cell_type": "code",
   "execution_count": null,
   "id": "981921bc",
   "metadata": {},
   "outputs": [],
   "source": [
    "#info() method shows all the information about the class\n",
    "s_data.info()"
   ]
  },
  {
   "cell_type": "code",
   "execution_count": null,
   "id": "2395f693",
   "metadata": {},
   "outputs": [],
   "source": [
    "#It is used to describe all the values of our dataset\n",
    "s_data.describe()"
   ]
  },
  {
   "cell_type": "code",
   "execution_count": null,
   "id": "5bdb1803",
   "metadata": {},
   "outputs": [],
   "source": [
    "#This method shows that whether the values are null value or not.\n",
    "s_data.isnull().sum()"
   ]
  },
  {
   "cell_type": "markdown",
   "id": "665bb08a",
   "metadata": {},
   "source": [
    "As we can see that there is no null value in our dataset."
   ]
  },
  {
   "cell_type": "markdown",
   "id": "1acb957f",
   "metadata": {},
   "source": [
    "# Step 2 : Visualizing the dataset\n",
    "  we will plot the dataset to check whether we can see any relation between two variables or not"
   ]
  },
  {
   "cell_type": "code",
   "execution_count": null,
   "id": "c222b61b",
   "metadata": {},
   "outputs": [],
   "source": [
    "# Plotting the distribution of scores\n",
    "\n",
    "s_data.plot(x='Hours', y='Scores', color='blue', style='o', markersize=5)  \n",
    "plt.title('Hours vs Percentage')  \n",
    "plt.xlabel('Hours Studied')  \n",
    "plt.ylabel('Percentage Score') \n",
    "plt.grid()\n",
    "plt.show()"
   ]
  },
  {
   "cell_type": "markdown",
   "id": "f4cdebf3",
   "metadata": {},
   "source": [
    "From the above graph, we can clearly see that there is a positive relation between number of hours they studied and scores obtained."
   ]
  },
  {
   "cell_type": "code",
   "execution_count": null,
   "id": "105896e8",
   "metadata": {},
   "outputs": [],
   "source": [
    "#corr() method is used to determine the correlation between variables\n",
    "s_data.corr()"
   ]
  },
  {
   "cell_type": "markdown",
   "id": "cb6ceb81",
   "metadata": {},
   "source": [
    "# Step 3 : Data Preparation\n",
    " We will divide the dataset into attributes(input),labels(output) and split this dataset into two parts i.e. training data and testing data. "
   ]
  },
  {
   "cell_type": "code",
   "execution_count": null,
   "id": "968e19f7",
   "metadata": {},
   "outputs": [],
   "source": [
    "#By using iloc function,we will divide the data\n",
    "#iloc[<row selector><column selector>]\n",
    "X=s_data.iloc[:,:-1].values   #Selecting all the rows and all the columns except last element\n",
    "Y=s_data.iloc[:,1].values     #Selecting all the rows and second column"
   ]
  },
  {
   "cell_type": "code",
   "execution_count": null,
   "id": "33abbae6",
   "metadata": {},
   "outputs": [],
   "source": [
    "X"
   ]
  },
  {
   "cell_type": "code",
   "execution_count": null,
   "id": "ff968bb8",
   "metadata": {},
   "outputs": [],
   "source": [
    "Y"
   ]
  },
  {
   "cell_type": "markdown",
   "id": "911e6024",
   "metadata": {},
   "source": [
    "Training data: Sample data that is used to train the model through which future prediction can be made.\n",
    "\n",
    "Testing data: Part of data that is unseen by the model, it is used to test how good the relationship and prediction is made by the model."
   ]
  },
  {
   "cell_type": "code",
   "execution_count": null,
   "id": "c8847186",
   "metadata": {},
   "outputs": [],
   "source": [
    "#Splitting data into train and test data by using train_test_split utility from sklearn.model_selection\n",
    "\n",
    "from sklearn.model_selection import train_test_split  \n",
    "X_train, X_test, Y_train, Y_test = train_test_split(X, Y, \n",
    "                            test_size=0.2, random_state=0) "
   ]
  },
  {
   "cell_type": "markdown",
   "id": "265db7d2",
   "metadata": {},
   "source": [
    "# Step 4 : Training the Algorithm\n",
    "we have splitted our data into training and testing sets now its time to train our algorithm."
   ]
  },
  {
   "cell_type": "code",
   "execution_count": null,
   "id": "c9e3265c",
   "metadata": {},
   "outputs": [],
   "source": [
    "from sklearn.linear_model import LinearRegression  \n",
    "model = LinearRegression()  \n",
    "model.fit(X_train, Y_train) #fit() method is used to train the model\n",
    "\n",
    "print(\"Training Complete.\")"
   ]
  },
  {
   "cell_type": "markdown",
   "id": "fc169684",
   "metadata": {},
   "source": [
    "# Step 5 : Visualizing our Model\n",
    "We have trained our model now its time to visualize it."
   ]
  },
  {
   "cell_type": "code",
   "execution_count": null,
   "id": "da3480b8",
   "metadata": {},
   "outputs": [],
   "source": [
    "#plotting the training data\n",
    "\n",
    "m=model.coef_\n",
    "c=model.intercept_\n",
    "line=m*X_train+c\n",
    "plt.scatter(X_train, Y_train, color='red')\n",
    "plt.plot(X_train, line, color='green')\n",
    "plt.grid()\n",
    "plt.show()"
   ]
  },
  {
   "cell_type": "code",
   "execution_count": null,
   "id": "eb1eb7df",
   "metadata": {
    "scrolled": true
   },
   "outputs": [],
   "source": [
    "#plotting the testing data\n",
    "\n",
    "m=model.coef_\n",
    "c=model.intercept_\n",
    "line=m*X_test+c\n",
    "plt.scatter(X_test, Y_test, color='red')\n",
    "plt.plot(X_test, line, color='green')\n",
    "plt.grid()\n",
    "plt.show()"
   ]
  },
  {
   "cell_type": "markdown",
   "id": "3f4d8da7",
   "metadata": {},
   "source": [
    "# Step 6 : Making Predictions\n",
    "   we have trained our algorithm and its time to make some predictions."
   ]
  },
  {
   "cell_type": "code",
   "execution_count": null,
   "id": "2b770551",
   "metadata": {},
   "outputs": [],
   "source": [
    "print(X_test) # Testing data - In Hours\n",
    "Y_pred = model.predict(X_test) # Predicting the scores"
   ]
  },
  {
   "cell_type": "code",
   "execution_count": null,
   "id": "364a2ef7",
   "metadata": {},
   "outputs": [],
   "source": [
    "#Comparing dataframe between actual vs predicted values\n",
    "\n",
    "df = pd.DataFrame({'Actual': Y_test, 'Predicted': Y_pred})  \n",
    "print(df) "
   ]
  },
  {
   "cell_type": "markdown",
   "id": "40ffacad",
   "metadata": {},
   "source": [
    "Predicting the score of a student who studies for 9.25 hours per day:"
   ]
  },
  {
   "cell_type": "code",
   "execution_count": null,
   "id": "58a29ecd",
   "metadata": {},
   "outputs": [],
   "source": [
    "#You can also test with your own data\n",
    "Hours = 9.25\n",
    "own_pred = model.predict([[Hours]])\n",
    "\n",
    "print(\"If a person who studies for\", Hours, \"hours and Predicted score is\", own_pred[0])"
   ]
  },
  {
   "cell_type": "markdown",
   "id": "f79e5e24",
   "metadata": {},
   "source": [
    "# Step 7 : Evaluating the Model\n",
    "  This is the final step to evaluate the performance of algorithm."
   ]
  },
  {
   "cell_type": "code",
   "execution_count": null,
   "id": "b629978e",
   "metadata": {},
   "outputs": [],
   "source": [
    "from sklearn import metrics  \n",
    "print('Mean Absolute Error:', \n",
    "       metrics.mean_absolute_error(Y_test, Y_pred))"
   ]
  },
  {
   "cell_type": "code",
   "execution_count": null,
   "id": "fc9210f9",
   "metadata": {},
   "outputs": [],
   "source": [
    "from sklearn import metrics\n",
    "print('Mean Squared Error:',\n",
    "      metrics.mean_squared_error(Y_test, Y_pred))"
   ]
  },
  {
   "cell_type": "code",
   "execution_count": null,
   "id": "b05d24e1",
   "metadata": {},
   "outputs": [],
   "source": [
    "from sklearn import metrics\n",
    "print('R-squared Error:',\n",
    "      metrics.r2_score(Y_test, Y_pred))"
   ]
  }
 ],
 "metadata": {
  "kernelspec": {
   "display_name": "Python 3",
   "language": "python",
   "name": "python3"
  },
  "language_info": {
   "codemirror_mode": {
    "name": "ipython",
    "version": 3
   },
   "file_extension": ".py",
   "mimetype": "text/x-python",
   "name": "python",
   "nbconvert_exporter": "python",
   "pygments_lexer": "ipython3",
   "version": "3.8.8"
  }
 },
 "nbformat": 4,
 "nbformat_minor": 5
}
